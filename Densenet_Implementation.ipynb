{
 "cells": [
  {
   "cell_type": "code",
   "execution_count": 110,
   "id": "66b2d5bc",
   "metadata": {},
   "outputs": [],
   "source": [
    "import torch\n",
    "from torch import nn\n",
    "from torchvision.transforms import ToTensor"
   ]
  },
  {
   "cell_type": "code",
   "execution_count": 10,
   "id": "a6d81eb5",
   "metadata": {},
   "outputs": [],
   "source": [
    "import torch.nn.functional as F"
   ]
  },
  {
   "cell_type": "code",
   "execution_count": 11,
   "id": "8a579739",
   "metadata": {},
   "outputs": [
    {
     "data": {
      "text/plain": [
       "torch.Size([1, 3, 224, 224])"
      ]
     },
     "execution_count": 11,
     "metadata": {},
     "output_type": "execute_result"
    }
   ],
   "source": [
    "x= torch.rand(1,3,224,224)\n",
    "x.shape"
   ]
  },
  {
   "cell_type": "code",
   "execution_count": 12,
   "id": "11b2478a",
   "metadata": {},
   "outputs": [
    {
     "name": "stdout",
     "output_type": "stream",
     "text": [
      "torch.Size([1, 64, 112, 112])\n"
     ]
    }
   ],
   "source": [
    "conv_1= torch.nn.Conv2d(3,64,kernel_size=7, stride=2, padding=3)\n",
    "x1= conv_1(x)\n",
    "print(x1.shape)"
   ]
  },
  {
   "cell_type": "code",
   "execution_count": 13,
   "id": "e7e1b44b",
   "metadata": {},
   "outputs": [
    {
     "name": "stdout",
     "output_type": "stream",
     "text": [
      "torch.Size([1, 64, 56, 56])\n"
     ]
    }
   ],
   "source": [
    "pool1= torch.nn.MaxPool2d(kernel_size=3, stride=2, padding=1)\n",
    "x2= pool1(x1)\n",
    "print(x2.shape)"
   ]
  },
  {
   "cell_type": "markdown",
   "id": "deb03277",
   "metadata": {},
   "source": [
    "# DenseBlock1"
   ]
  },
  {
   "cell_type": "markdown",
   "id": "291dbb36",
   "metadata": {},
   "source": [
    "# Layer 01"
   ]
  },
  {
   "cell_type": "code",
   "execution_count": 88,
   "id": "fc2c6908",
   "metadata": {},
   "outputs": [
    {
     "name": "stdout",
     "output_type": "stream",
     "text": [
      "torch.Size([1, 32, 56, 56])\n"
     ]
    }
   ],
   "source": [
    "k=32\n",
    "conv_DB1_L11= torch.nn.Conv2d(64,32,kernel_size= 1, stride=1, padding=0)\n",
    "x3= conv_DB1_L11(x2)\n",
    "print(x3.shape)"
   ]
  },
  {
   "cell_type": "code",
   "execution_count": 89,
   "id": "57979da6",
   "metadata": {},
   "outputs": [
    {
     "name": "stdout",
     "output_type": "stream",
     "text": [
      "torch.Size([1, 32, 56, 56])\n"
     ]
    }
   ],
   "source": [
    "conv_DB1_L12= torch.nn.Conv2d(32,32,kernel_size= 3, stride=1, padding=1)\n",
    "x4= conv_DB1_L12(x3)\n",
    "print(x4.shape)"
   ]
  },
  {
   "cell_type": "code",
   "execution_count": 90,
   "id": "845b9531",
   "metadata": {},
   "outputs": [
    {
     "name": "stdout",
     "output_type": "stream",
     "text": [
      "torch.Size([1, 96, 56, 56])\n"
     ]
    }
   ],
   "source": [
    "x5= torch.cat((x2,x4), 1)\n",
    "print(x5.shape)"
   ]
  },
  {
   "cell_type": "markdown",
   "id": "0e3848d1",
   "metadata": {},
   "source": [
    "# Layer 02"
   ]
  },
  {
   "cell_type": "code",
   "execution_count": 91,
   "id": "d779e26a",
   "metadata": {},
   "outputs": [
    {
     "name": "stdout",
     "output_type": "stream",
     "text": [
      "torch.Size([1, 32, 56, 56])\n"
     ]
    }
   ],
   "source": [
    "conv_DB1_L21= torch.nn.Conv2d(96,32,kernel_size= 1, stride=1, padding=0)\n",
    "x6= conv_DB1_L21(x5)\n",
    "print(x6.shape)"
   ]
  },
  {
   "cell_type": "code",
   "execution_count": 92,
   "id": "af6e2496",
   "metadata": {},
   "outputs": [
    {
     "name": "stdout",
     "output_type": "stream",
     "text": [
      "torch.Size([1, 32, 56, 56])\n"
     ]
    }
   ],
   "source": [
    "conv_DB1_L22= torch.nn.Conv2d(32,32,kernel_size= 3, stride=1, padding=1)\n",
    "x7= conv_DB1_L22(x6)\n",
    "print(x7.shape)"
   ]
  },
  {
   "cell_type": "code",
   "execution_count": 93,
   "id": "89306e3d",
   "metadata": {},
   "outputs": [
    {
     "name": "stdout",
     "output_type": "stream",
     "text": [
      "torch.Size([1, 128, 56, 56])\n"
     ]
    }
   ],
   "source": [
    "x8= torch.cat((x5,x7), 1)\n",
    "print(x8.shape)"
   ]
  },
  {
   "cell_type": "markdown",
   "id": "af690f9e",
   "metadata": {},
   "source": [
    "# Layer 03"
   ]
  },
  {
   "cell_type": "code",
   "execution_count": 94,
   "id": "b40e26d6",
   "metadata": {},
   "outputs": [
    {
     "name": "stdout",
     "output_type": "stream",
     "text": [
      "torch.Size([1, 32, 56, 56])\n"
     ]
    }
   ],
   "source": [
    "conv_DB1_L31= torch.nn.Conv2d(128,32,kernel_size= 1, stride=1, padding=0)\n",
    "x9= conv_DB1_L31(x8)\n",
    "print(x9.shape)"
   ]
  },
  {
   "cell_type": "code",
   "execution_count": 95,
   "id": "03aa7aae",
   "metadata": {},
   "outputs": [
    {
     "name": "stdout",
     "output_type": "stream",
     "text": [
      "torch.Size([1, 32, 56, 56])\n"
     ]
    }
   ],
   "source": [
    "conv_DB1_L32= torch.nn.Conv2d(32,32,kernel_size= 3, stride=1, padding=1)\n",
    "x10= conv_DB1_L32(x9)\n",
    "print(x10.shape)"
   ]
  },
  {
   "cell_type": "code",
   "execution_count": 96,
   "id": "83e56b68",
   "metadata": {},
   "outputs": [
    {
     "name": "stdout",
     "output_type": "stream",
     "text": [
      "torch.Size([1, 160, 56, 56])\n"
     ]
    }
   ],
   "source": [
    "x11= torch.cat((x8,x10), 1)\n",
    "print(x11.shape)"
   ]
  },
  {
   "cell_type": "markdown",
   "id": "1f13a08f",
   "metadata": {},
   "source": [
    "# Layer 04"
   ]
  },
  {
   "cell_type": "code",
   "execution_count": 97,
   "id": "90b4a4ca",
   "metadata": {},
   "outputs": [
    {
     "name": "stdout",
     "output_type": "stream",
     "text": [
      "torch.Size([1, 32, 56, 56])\n"
     ]
    }
   ],
   "source": [
    "conv_DB1_L41= torch.nn.Conv2d(160,32,kernel_size= 1, stride=1, padding=0)\n",
    "x12= conv_DB1_L41(x11)\n",
    "print(x12.shape)"
   ]
  },
  {
   "cell_type": "code",
   "execution_count": 98,
   "id": "082287d1",
   "metadata": {},
   "outputs": [
    {
     "name": "stdout",
     "output_type": "stream",
     "text": [
      "torch.Size([1, 32, 56, 56])\n"
     ]
    }
   ],
   "source": [
    "conv_DB1_L42= torch.nn.Conv2d(32,32,kernel_size= 3, stride=1, padding=1)\n",
    "x13= conv_DB1_L42(x12)\n",
    "print(x13.shape)"
   ]
  },
  {
   "cell_type": "code",
   "execution_count": 99,
   "id": "1e47aa5f",
   "metadata": {},
   "outputs": [
    {
     "name": "stdout",
     "output_type": "stream",
     "text": [
      "torch.Size([1, 192, 56, 56])\n"
     ]
    }
   ],
   "source": [
    "x14= torch.cat((x11,x13), 1)\n",
    "print(x14.shape)"
   ]
  },
  {
   "cell_type": "markdown",
   "id": "d27abbc5",
   "metadata": {},
   "source": [
    "# Layer 05"
   ]
  },
  {
   "cell_type": "code",
   "execution_count": 100,
   "id": "be4afac7",
   "metadata": {},
   "outputs": [
    {
     "name": "stdout",
     "output_type": "stream",
     "text": [
      "torch.Size([1, 32, 56, 56])\n"
     ]
    }
   ],
   "source": [
    "conv_DB1_L51= torch.nn.Conv2d(192,32,kernel_size= 1, stride=1, padding=0)\n",
    "x15= conv_DB1_L51(x14)\n",
    "print(x15.shape)"
   ]
  },
  {
   "cell_type": "code",
   "execution_count": 101,
   "id": "da73b329",
   "metadata": {},
   "outputs": [
    {
     "name": "stdout",
     "output_type": "stream",
     "text": [
      "torch.Size([1, 32, 56, 56])\n"
     ]
    }
   ],
   "source": [
    "conv_DB1_L52= torch.nn.Conv2d(32,32,kernel_size= 3, stride=1, padding=1)\n",
    "x16= conv_DB1_L52(x15)\n",
    "print(x16.shape)"
   ]
  },
  {
   "cell_type": "code",
   "execution_count": 102,
   "id": "78ea5955",
   "metadata": {},
   "outputs": [
    {
     "name": "stdout",
     "output_type": "stream",
     "text": [
      "torch.Size([1, 224, 56, 56])\n"
     ]
    }
   ],
   "source": [
    "x17= torch.cat((x14,x16), 1)\n",
    "print(x17.shape)"
   ]
  },
  {
   "cell_type": "markdown",
   "id": "3fd938cb",
   "metadata": {},
   "source": [
    "# Layer 06"
   ]
  },
  {
   "cell_type": "code",
   "execution_count": 103,
   "id": "0cb65daf",
   "metadata": {},
   "outputs": [
    {
     "name": "stdout",
     "output_type": "stream",
     "text": [
      "torch.Size([1, 32, 56, 56])\n"
     ]
    }
   ],
   "source": [
    "conv_DB1_L61= torch.nn.Conv2d(224,32,kernel_size= 1, stride=1, padding=0)\n",
    "x18= conv_DB1_L61(x17)\n",
    "print(x18.shape)"
   ]
  },
  {
   "cell_type": "code",
   "execution_count": 104,
   "id": "824f76dd",
   "metadata": {},
   "outputs": [
    {
     "name": "stdout",
     "output_type": "stream",
     "text": [
      "torch.Size([1, 32, 56, 56])\n"
     ]
    }
   ],
   "source": [
    "conv_DB1_L62= torch.nn.Conv2d(32,32,kernel_size= 3, stride=1, padding=1)\n",
    "x19= conv_DB1_L62(x18)\n",
    "print(x19.shape)"
   ]
  },
  {
   "cell_type": "code",
   "execution_count": 105,
   "id": "80e7bae2",
   "metadata": {},
   "outputs": [
    {
     "name": "stdout",
     "output_type": "stream",
     "text": [
      "torch.Size([1, 256, 56, 56])\n"
     ]
    }
   ],
   "source": [
    "x20= torch.cat((x17,x19), 1)\n",
    "print(x20.shape)"
   ]
  },
  {
   "cell_type": "markdown",
   "id": "66d4cc93",
   "metadata": {},
   "source": [
    "# transition layer"
   ]
  },
  {
   "cell_type": "code",
   "execution_count": 106,
   "id": "9099d8db",
   "metadata": {},
   "outputs": [
    {
     "name": "stdout",
     "output_type": "stream",
     "text": [
      "torch.Size([1, 128, 56, 56])\n"
     ]
    }
   ],
   "source": [
    "conv_TL1_L11= torch.nn.Conv2d(256,128,kernel_size= 1, stride=1, padding=0)\n",
    "x21= conv_TL1_L11(x20)\n",
    "print(x21.shape)"
   ]
  },
  {
   "cell_type": "code",
   "execution_count": 107,
   "id": "b4b66e50",
   "metadata": {},
   "outputs": [
    {
     "name": "stdout",
     "output_type": "stream",
     "text": [
      "torch.Size([1, 128, 28, 28])\n"
     ]
    }
   ],
   "source": [
    "x22= torch.nn.functional.avg_pool2d(x21, kernel_size=2, stride=2)\n",
    "print(x22.shape)"
   ]
  },
  {
   "cell_type": "markdown",
   "id": "e18db593",
   "metadata": {},
   "source": [
    "# DenseBlock2"
   ]
  },
  {
   "cell_type": "code",
   "execution_count": 132,
   "id": "d3d9a9c4",
   "metadata": {},
   "outputs": [
    {
     "name": "stdout",
     "output_type": "stream",
     "text": [
      "torch.Size([1, 32, 28, 28])\n",
      "torch.Size([1, 32, 28, 28])\n",
      "torch.Size([1, 160, 28, 28])\n"
     ]
    }
   ],
   "source": [
    "conv_DB2_L11= torch.nn.Conv2d(128,32,kernel_size= 1, stride=1, padding=0)\n",
    "x1= conv_DB2_L11(x22)\n",
    "print(x1.shape)\n",
    "conv_DB2_L12= torch.nn.Conv2d(32,32,kernel_size= 3, stride=1, padding=1)\n",
    "x2= conv_DB2_L12(x1)\n",
    "print(x2.shape)\n",
    "x3= torch.cat((x22,x2), 1)\n",
    "print(x3.shape)"
   ]
  },
  {
   "cell_type": "code",
   "execution_count": 133,
   "id": "942fba70",
   "metadata": {},
   "outputs": [
    {
     "name": "stdout",
     "output_type": "stream",
     "text": [
      "torch.Size([1, 32, 28, 28])\n",
      "torch.Size([1, 32, 28, 28])\n",
      "torch.Size([1, 192, 28, 28])\n"
     ]
    }
   ],
   "source": [
    "conv_DB2_L21= torch.nn.Conv2d(160,32,kernel_size= 1, stride=1, padding=0)\n",
    "x4= conv_DB2_L21(x3)\n",
    "print(x4.shape)\n",
    "conv_DB2_L22= torch.nn.Conv2d(32,32,kernel_size= 3, stride=1, padding=1)\n",
    "x5= conv_DB2_L22(x1)\n",
    "print(x5.shape)\n",
    "x6= torch.cat((x3,x5), 1)\n",
    "print(x6.shape)"
   ]
  },
  {
   "cell_type": "code",
   "execution_count": 134,
   "id": "343fc1bd",
   "metadata": {},
   "outputs": [
    {
     "name": "stdout",
     "output_type": "stream",
     "text": [
      "torch.Size([1, 32, 28, 28])\n",
      "torch.Size([1, 32, 28, 28])\n",
      "torch.Size([1, 224, 28, 28])\n"
     ]
    }
   ],
   "source": [
    "conv_DB2_L31= torch.nn.Conv2d(192,32,kernel_size= 1, stride=1, padding=0)\n",
    "x7= conv_DB2_L31(x6)\n",
    "print(x7.shape)\n",
    "conv_DB2_L32= torch.nn.Conv2d(32,32,kernel_size= 3, stride=1, padding=1)\n",
    "x8= conv_DB2_L32(x7)\n",
    "print(x8.shape)\n",
    "x9= torch.cat((x6,x8), 1)\n",
    "print(x9.shape)"
   ]
  },
  {
   "cell_type": "code",
   "execution_count": null,
   "id": "6f5c83f3",
   "metadata": {},
   "outputs": [],
   "source": []
  },
  {
   "cell_type": "code",
   "execution_count": null,
   "id": "93bdafcd",
   "metadata": {},
   "outputs": [],
   "source": []
  },
  {
   "cell_type": "code",
   "execution_count": null,
   "id": "ba5d1e44",
   "metadata": {},
   "outputs": [],
   "source": []
  },
  {
   "cell_type": "code",
   "execution_count": null,
   "id": "89a8a156",
   "metadata": {},
   "outputs": [],
   "source": []
  },
  {
   "cell_type": "code",
   "execution_count": 117,
   "id": "fc19cafc",
   "metadata": {},
   "outputs": [],
   "source": [
    "class NeuralNetwork(nn.Module):\n",
    "    def __init__(self):\n",
    "        super().__init__()\n",
    "        self.flatten = nn.Flatten()\n",
    "        self.linear_relu_stack = nn.Sequential(\n",
    "        \n",
    "        )\n",
    "         \n",
    "    def forward(self, x):\n",
    "        x = self.flatten(x)\n",
    "        logits = self.linear_relu_stack(x)\n",
    "        return logits\n"
   ]
  },
  {
   "cell_type": "code",
   "execution_count": 116,
   "id": "4f6f2ec0",
   "metadata": {},
   "outputs": [
    {
     "data": {
      "text/plain": [
       "tensor([[0.0075, 0.0495, 0.0214,  ..., 0.0757, 0.0978, 0.1183]],\n",
       "       grad_fn=<ReshapeAliasBackward0>)"
      ]
     },
     "execution_count": 116,
     "metadata": {},
     "output_type": "execute_result"
    }
   ],
   "source": [
    "model= NeuralNetwork()\n",
    "model.forward(x22)"
   ]
  }
 ],
 "metadata": {
  "kernelspec": {
   "display_name": "Python 3",
   "language": "python",
   "name": "python3"
  },
  "language_info": {
   "codemirror_mode": {
    "name": "ipython",
    "version": 3
   },
   "file_extension": ".py",
   "mimetype": "text/x-python",
   "name": "python",
   "nbconvert_exporter": "python",
   "pygments_lexer": "ipython3",
   "version": "3.8.8"
  }
 },
 "nbformat": 4,
 "nbformat_minor": 5
}
